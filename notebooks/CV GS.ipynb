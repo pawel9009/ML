{
 "cells": [
  {
   "cell_type": "code",
   "execution_count": 420,
   "metadata": {
    "collapsed": true
   },
   "outputs": [],
   "source": [
    "import numpy as np\n",
    "import pandas as pd\n",
    "import seaborn as sns\n",
    "import matplotlib.pyplot as plt"
   ]
  },
  {
   "cell_type": "code",
   "execution_count": 421,
   "outputs": [],
   "source": [
    "df = pd.read_csv('../data/Advertising.csv')"
   ],
   "metadata": {
    "collapsed": false,
    "pycharm": {
     "name": "#%%\n"
    }
   }
  },
  {
   "cell_type": "code",
   "execution_count": 422,
   "outputs": [
    {
     "data": {
      "text/plain": "   Unnamed: 0     TV  Radio  Newspaper  Sales\n0           1  230.1   37.8       69.2   22.1\n1           2   44.5   39.3       45.1   10.4\n2           3   17.2   45.9       69.3    9.3\n3           4  151.5   41.3       58.5   18.5\n4           5  180.8   10.8       58.4   12.9",
      "text/html": "<div>\n<style scoped>\n    .dataframe tbody tr th:only-of-type {\n        vertical-align: middle;\n    }\n\n    .dataframe tbody tr th {\n        vertical-align: top;\n    }\n\n    .dataframe thead th {\n        text-align: right;\n    }\n</style>\n<table border=\"1\" class=\"dataframe\">\n  <thead>\n    <tr style=\"text-align: right;\">\n      <th></th>\n      <th>Unnamed: 0</th>\n      <th>TV</th>\n      <th>Radio</th>\n      <th>Newspaper</th>\n      <th>Sales</th>\n    </tr>\n  </thead>\n  <tbody>\n    <tr>\n      <th>0</th>\n      <td>1</td>\n      <td>230.1</td>\n      <td>37.8</td>\n      <td>69.2</td>\n      <td>22.1</td>\n    </tr>\n    <tr>\n      <th>1</th>\n      <td>2</td>\n      <td>44.5</td>\n      <td>39.3</td>\n      <td>45.1</td>\n      <td>10.4</td>\n    </tr>\n    <tr>\n      <th>2</th>\n      <td>3</td>\n      <td>17.2</td>\n      <td>45.9</td>\n      <td>69.3</td>\n      <td>9.3</td>\n    </tr>\n    <tr>\n      <th>3</th>\n      <td>4</td>\n      <td>151.5</td>\n      <td>41.3</td>\n      <td>58.5</td>\n      <td>18.5</td>\n    </tr>\n    <tr>\n      <th>4</th>\n      <td>5</td>\n      <td>180.8</td>\n      <td>10.8</td>\n      <td>58.4</td>\n      <td>12.9</td>\n    </tr>\n  </tbody>\n</table>\n</div>"
     },
     "execution_count": 422,
     "metadata": {},
     "output_type": "execute_result"
    }
   ],
   "source": [
    "df.head()"
   ],
   "metadata": {
    "collapsed": false,
    "pycharm": {
     "name": "#%%\n"
    }
   }
  },
  {
   "cell_type": "code",
   "execution_count": 423,
   "outputs": [],
   "source": [
    "X = df.drop('Sales', axis=1)\n",
    "\n",
    "y = df['Sales']"
   ],
   "metadata": {
    "collapsed": false,
    "pycharm": {
     "name": "#%%\n"
    }
   }
  },
  {
   "cell_type": "code",
   "execution_count": 424,
   "outputs": [],
   "source": [
    "from sklearn.model_selection import train_test_split"
   ],
   "metadata": {
    "collapsed": false,
    "pycharm": {
     "name": "#%%\n"
    }
   }
  },
  {
   "cell_type": "code",
   "execution_count": 425,
   "outputs": [],
   "source": [
    "X_train, X_test, y_train, y_test = train_test_split(X, y, test_size=0.3, random_state=101)"
   ],
   "metadata": {
    "collapsed": false,
    "pycharm": {
     "name": "#%%\n"
    }
   }
  },
  {
   "cell_type": "code",
   "execution_count": 426,
   "outputs": [],
   "source": [
    "from sklearn.preprocessing import StandardScaler"
   ],
   "metadata": {
    "collapsed": false,
    "pycharm": {
     "name": "#%%\n"
    }
   }
  },
  {
   "cell_type": "code",
   "execution_count": 427,
   "outputs": [],
   "source": [
    "scaler = StandardScaler()"
   ],
   "metadata": {
    "collapsed": false,
    "pycharm": {
     "name": "#%%\n"
    }
   }
  },
  {
   "cell_type": "code",
   "execution_count": 428,
   "outputs": [
    {
     "data": {
      "text/plain": "StandardScaler()"
     },
     "execution_count": 428,
     "metadata": {},
     "output_type": "execute_result"
    }
   ],
   "source": [
    "scaler.fit(X_train)"
   ],
   "metadata": {
    "collapsed": false,
    "pycharm": {
     "name": "#%%\n"
    }
   }
  },
  {
   "cell_type": "code",
   "execution_count": 429,
   "outputs": [],
   "source": [
    "X_train = scaler.transform(X_train)"
   ],
   "metadata": {
    "collapsed": false,
    "pycharm": {
     "name": "#%%\n"
    }
   }
  },
  {
   "cell_type": "code",
   "execution_count": 430,
   "outputs": [],
   "source": [
    "X_test = scaler.transform(X_test)"
   ],
   "metadata": {
    "collapsed": false,
    "pycharm": {
     "name": "#%%\n"
    }
   }
  },
  {
   "cell_type": "code",
   "execution_count": 431,
   "outputs": [],
   "source": [
    "from sklearn.linear_model import Ridge"
   ],
   "metadata": {
    "collapsed": false,
    "pycharm": {
     "name": "#%%\n"
    }
   }
  },
  {
   "cell_type": "code",
   "execution_count": 432,
   "outputs": [],
   "source": [
    "model = Ridge(alpha=100)"
   ],
   "metadata": {
    "collapsed": false,
    "pycharm": {
     "name": "#%%\n"
    }
   }
  },
  {
   "cell_type": "code",
   "source": [
    "model.fit(X_train, y_train)"
   ],
   "metadata": {
    "collapsed": false,
    "pycharm": {
     "name": "#%%\n"
    }
   },
   "execution_count": 433,
   "outputs": [
    {
     "data": {
      "text/plain": "Ridge(alpha=100)"
     },
     "execution_count": 433,
     "metadata": {},
     "output_type": "execute_result"
    }
   ]
  },
  {
   "cell_type": "code",
   "execution_count": 434,
   "outputs": [],
   "source": [
    "y_pred = model.predict(X_test)"
   ],
   "metadata": {
    "collapsed": false,
    "pycharm": {
     "name": "#%%\n"
    }
   }
  },
  {
   "cell_type": "code",
   "execution_count": 435,
   "outputs": [],
   "source": [
    "from sklearn.metrics import mean_squared_error"
   ],
   "metadata": {
    "collapsed": false,
    "pycharm": {
     "name": "#%%\n"
    }
   }
  },
  {
   "cell_type": "code",
   "execution_count": 436,
   "outputs": [
    {
     "data": {
      "text/plain": "7.3395051593079"
     },
     "execution_count": 436,
     "metadata": {},
     "output_type": "execute_result"
    }
   ],
   "source": [
    "mean_squared_error(y_test,y_pred)"
   ],
   "metadata": {
    "collapsed": false,
    "pycharm": {
     "name": "#%%\n"
    }
   }
  },
  {
   "cell_type": "code",
   "execution_count": 437,
   "outputs": [],
   "source": [
    "model_2 = Ridge(alpha=1)"
   ],
   "metadata": {
    "collapsed": false,
    "pycharm": {
     "name": "#%%\n"
    }
   }
  },
  {
   "cell_type": "code",
   "execution_count": 438,
   "outputs": [
    {
     "data": {
      "text/plain": "Ridge(alpha=1)"
     },
     "execution_count": 438,
     "metadata": {},
     "output_type": "execute_result"
    }
   ],
   "source": [
    "model_2.fit(X_train,y_train)"
   ],
   "metadata": {
    "collapsed": false,
    "pycharm": {
     "name": "#%%\n"
    }
   }
  },
  {
   "cell_type": "code",
   "execution_count": 439,
   "outputs": [],
   "source": [
    "y_pred_2 = model_2.predict(X_test)"
   ],
   "metadata": {
    "collapsed": false,
    "pycharm": {
     "name": "#%%\n"
    }
   }
  },
  {
   "cell_type": "code",
   "execution_count": 440,
   "outputs": [
    {
     "data": {
      "text/plain": "2.413580764141678"
     },
     "execution_count": 440,
     "metadata": {},
     "output_type": "execute_result"
    }
   ],
   "source": [
    "mean_squared_error(y_test, y_pred_2)"
   ],
   "metadata": {
    "collapsed": false,
    "pycharm": {
     "name": "#%%\n"
    }
   }
  },
  {
   "cell_type": "code",
   "execution_count": 441,
   "outputs": [],
   "source": [
    "##################################################"
   ],
   "metadata": {
    "collapsed": false,
    "pycharm": {
     "name": "#%%\n"
    }
   }
  },
  {
   "cell_type": "code",
   "execution_count": 442,
   "outputs": [],
   "source": [
    "X = df.drop('Sales',axis=1)"
   ],
   "metadata": {
    "collapsed": false,
    "pycharm": {
     "name": "#%%\n"
    }
   }
  },
  {
   "cell_type": "code",
   "execution_count": 443,
   "outputs": [],
   "source": [
    "y = df['Sales']"
   ],
   "metadata": {
    "collapsed": false,
    "pycharm": {
     "name": "#%%\n"
    }
   }
  },
  {
   "cell_type": "code",
   "execution_count": 444,
   "outputs": [],
   "source": [
    "X_train, X_other, y_train, y_other = train_test_split(X, y, test_size=0.3, random_state=101)"
   ],
   "metadata": {
    "collapsed": false,
    "pycharm": {
     "name": "#%%\n"
    }
   }
  },
  {
   "cell_type": "code",
   "execution_count": 445,
   "outputs": [],
   "source": [
    "X_eval, X_test, y_eval, y_test = train_test_split(X_other, y_other, test_size=0.5, random_state=101)"
   ],
   "metadata": {
    "collapsed": false,
    "pycharm": {
     "name": "#%%\n"
    }
   }
  },
  {
   "cell_type": "code",
   "execution_count": 446,
   "outputs": [
    {
     "data": {
      "text/plain": "200"
     },
     "execution_count": 446,
     "metadata": {},
     "output_type": "execute_result"
    }
   ],
   "source": [
    "len(df)"
   ],
   "metadata": {
    "collapsed": false,
    "pycharm": {
     "name": "#%%\n"
    }
   }
  },
  {
   "cell_type": "code",
   "execution_count": 447,
   "outputs": [
    {
     "data": {
      "text/plain": "140"
     },
     "execution_count": 447,
     "metadata": {},
     "output_type": "execute_result"
    }
   ],
   "source": [
    "len(X_train)"
   ],
   "metadata": {
    "collapsed": false,
    "pycharm": {
     "name": "#%%\n"
    }
   }
  },
  {
   "cell_type": "code",
   "execution_count": 448,
   "outputs": [
    {
     "data": {
      "text/plain": "30"
     },
     "execution_count": 448,
     "metadata": {},
     "output_type": "execute_result"
    }
   ],
   "source": [
    "len(X_eval)"
   ],
   "metadata": {
    "collapsed": false,
    "pycharm": {
     "name": "#%%\n"
    }
   }
  },
  {
   "cell_type": "code",
   "execution_count": 449,
   "outputs": [
    {
     "data": {
      "text/plain": "30"
     },
     "execution_count": 449,
     "metadata": {},
     "output_type": "execute_result"
    }
   ],
   "source": [
    "len(X_test)"
   ],
   "metadata": {
    "collapsed": false,
    "pycharm": {
     "name": "#%%\n"
    }
   }
  },
  {
   "cell_type": "code",
   "execution_count": 450,
   "outputs": [
    {
     "data": {
      "text/plain": "StandardScaler()"
     },
     "execution_count": 450,
     "metadata": {},
     "output_type": "execute_result"
    }
   ],
   "source": [
    "scaler = StandardScaler()\n",
    "scaler.fit(X_train)"
   ],
   "metadata": {
    "collapsed": false,
    "pycharm": {
     "name": "#%%\n"
    }
   }
  },
  {
   "cell_type": "code",
   "execution_count": 451,
   "outputs": [],
   "source": [
    "X_train = scaler.transform(X_train)"
   ],
   "metadata": {
    "collapsed": false,
    "pycharm": {
     "name": "#%%\n"
    }
   }
  },
  {
   "cell_type": "code",
   "execution_count": 452,
   "outputs": [],
   "source": [
    "X_test = scaler.transform(X_test)"
   ],
   "metadata": {
    "collapsed": false,
    "pycharm": {
     "name": "#%%\n"
    }
   }
  },
  {
   "cell_type": "code",
   "execution_count": 453,
   "outputs": [],
   "source": [
    "X_eval = scaler.transform(X_eval)"
   ],
   "metadata": {
    "collapsed": false,
    "pycharm": {
     "name": "#%%\n"
    }
   }
  },
  {
   "cell_type": "code",
   "execution_count": 454,
   "outputs": [],
   "source": [
    "model_1 = Ridge(alpha=100)"
   ],
   "metadata": {
    "collapsed": false,
    "pycharm": {
     "name": "#%%\n"
    }
   }
  },
  {
   "cell_type": "code",
   "execution_count": 455,
   "outputs": [
    {
     "data": {
      "text/plain": "Ridge(alpha=100)"
     },
     "execution_count": 455,
     "metadata": {},
     "output_type": "execute_result"
    }
   ],
   "source": [
    "model_1.fit(X_train,y_train)"
   ],
   "metadata": {
    "collapsed": false,
    "pycharm": {
     "name": "#%%\n"
    }
   }
  },
  {
   "cell_type": "code",
   "execution_count": 456,
   "outputs": [],
   "source": [
    "y_eval_pred = model_1.predict(X_eval)"
   ],
   "metadata": {
    "collapsed": false,
    "pycharm": {
     "name": "#%%\n"
    }
   }
  },
  {
   "cell_type": "code",
   "execution_count": 457,
   "outputs": [
    {
     "data": {
      "text/plain": "7.303724916324524"
     },
     "execution_count": 457,
     "metadata": {},
     "output_type": "execute_result"
    }
   ],
   "source": [
    "mean_squared_error(y_eval, y_eval_pred)"
   ],
   "metadata": {
    "collapsed": false,
    "pycharm": {
     "name": "#%%\n"
    }
   }
  },
  {
   "cell_type": "code",
   "execution_count": 458,
   "outputs": [],
   "source": [
    "model_2 = Ridge(alpha=1)"
   ],
   "metadata": {
    "collapsed": false,
    "pycharm": {
     "name": "#%%\n"
    }
   }
  },
  {
   "cell_type": "code",
   "execution_count": 459,
   "outputs": [
    {
     "data": {
      "text/plain": "Ridge(alpha=1)"
     },
     "execution_count": 459,
     "metadata": {},
     "output_type": "execute_result"
    }
   ],
   "source": [
    "model_2.fit(X_train,y_train)"
   ],
   "metadata": {
    "collapsed": false,
    "pycharm": {
     "name": "#%%\n"
    }
   }
  },
  {
   "cell_type": "code",
   "execution_count": 460,
   "outputs": [],
   "source": [
    "y_eval_pred_2 = model_2.predict(X_eval)"
   ],
   "metadata": {
    "collapsed": false,
    "pycharm": {
     "name": "#%%\n"
    }
   }
  },
  {
   "cell_type": "code",
   "execution_count": 461,
   "outputs": [
    {
     "data": {
      "text/plain": "2.4633571556229885"
     },
     "execution_count": 461,
     "metadata": {},
     "output_type": "execute_result"
    }
   ],
   "source": [
    "mean_squared_error(y_eval,y_eval_pred_2)"
   ],
   "metadata": {
    "collapsed": false,
    "pycharm": {
     "name": "#%%\n"
    }
   }
  },
  {
   "cell_type": "code",
   "execution_count": 462,
   "outputs": [],
   "source": [
    "final_pred = model_2.predict(X_test)"
   ],
   "metadata": {
    "collapsed": false,
    "pycharm": {
     "name": "#%%\n"
    }
   }
  },
  {
   "cell_type": "code",
   "execution_count": 463,
   "outputs": [
    {
     "data": {
      "text/plain": "2.363804372660367"
     },
     "execution_count": 463,
     "metadata": {},
     "output_type": "execute_result"
    }
   ],
   "source": [
    "mean_squared_error(y_test, final_pred)"
   ],
   "metadata": {
    "collapsed": false,
    "pycharm": {
     "name": "#%%\n"
    }
   }
  },
  {
   "cell_type": "code",
   "execution_count": 464,
   "outputs": [],
   "source": [
    "#############################################"
   ],
   "metadata": {
    "collapsed": false,
    "pycharm": {
     "name": "#%%\n"
    }
   }
  },
  {
   "cell_type": "code",
   "execution_count": 465,
   "outputs": [],
   "source": [
    "X = df.drop('Sales',axis=1)"
   ],
   "metadata": {
    "collapsed": false,
    "pycharm": {
     "name": "#%%\n"
    }
   }
  },
  {
   "cell_type": "code",
   "execution_count": 466,
   "outputs": [],
   "source": [
    "y = df['Sales']"
   ],
   "metadata": {
    "collapsed": false,
    "pycharm": {
     "name": "#%%\n"
    }
   }
  },
  {
   "cell_type": "code",
   "execution_count": 467,
   "outputs": [],
   "source": [
    "X_train, X_other, y_train, y_other = train_test_split(X, y, test_size=0.3, random_state=101)"
   ],
   "metadata": {
    "collapsed": false,
    "pycharm": {
     "name": "#%%\n"
    }
   }
  },
  {
   "cell_type": "code",
   "execution_count": 468,
   "outputs": [],
   "source": [
    "scaler = StandardScaler()"
   ],
   "metadata": {
    "collapsed": false,
    "pycharm": {
     "name": "#%%\n"
    }
   }
  },
  {
   "cell_type": "code",
   "execution_count": 469,
   "outputs": [
    {
     "data": {
      "text/plain": "StandardScaler()"
     },
     "execution_count": 469,
     "metadata": {},
     "output_type": "execute_result"
    }
   ],
   "source": [
    "scaler.fit(X_train)"
   ],
   "metadata": {
    "collapsed": false,
    "pycharm": {
     "name": "#%%\n"
    }
   }
  },
  {
   "cell_type": "code",
   "execution_count": 470,
   "outputs": [],
   "source": [
    "X_train = scaler.transform(X_train)"
   ],
   "metadata": {
    "collapsed": false,
    "pycharm": {
     "name": "#%%\n"
    }
   }
  },
  {
   "cell_type": "code",
   "execution_count": 471,
   "outputs": [],
   "source": [
    "X_test = scaler.transform(X_test)"
   ],
   "metadata": {
    "collapsed": false,
    "pycharm": {
     "name": "#%%\n"
    }
   }
  },
  {
   "cell_type": "code",
   "execution_count": 472,
   "outputs": [],
   "source": [
    "model = Ridge(alpha=100)"
   ],
   "metadata": {
    "collapsed": false,
    "pycharm": {
     "name": "#%%\n"
    }
   }
  },
  {
   "cell_type": "code",
   "execution_count": 473,
   "outputs": [],
   "source": [
    "from sklearn.model_selection import cross_val_score"
   ],
   "metadata": {
    "collapsed": false,
    "pycharm": {
     "name": "#%%\n"
    }
   }
  },
  {
   "cell_type": "code",
   "execution_count": 474,
   "outputs": [],
   "source": [
    "scores = cross_val_score(model, X_train,y_train,scoring='neg_mean_squared_error',cv=5)"
   ],
   "metadata": {
    "collapsed": false,
    "pycharm": {
     "name": "#%%\n"
    }
   }
  },
  {
   "cell_type": "code",
   "execution_count": 475,
   "outputs": [
    {
     "data": {
      "text/plain": "array([ -9.46077895,  -4.99113998, -11.41979353,  -7.02510055,\n        -8.4068186 ])"
     },
     "execution_count": 475,
     "metadata": {},
     "output_type": "execute_result"
    }
   ],
   "source": [
    "scores"
   ],
   "metadata": {
    "collapsed": false,
    "pycharm": {
     "name": "#%%\n"
    }
   }
  },
  {
   "cell_type": "code",
   "execution_count": 476,
   "outputs": [
    {
     "data": {
      "text/plain": "8.260726318542554"
     },
     "execution_count": 476,
     "metadata": {},
     "output_type": "execute_result"
    }
   ],
   "source": [
    "abs(scores.mean())"
   ],
   "metadata": {
    "collapsed": false,
    "pycharm": {
     "name": "#%%\n"
    }
   }
  },
  {
   "cell_type": "code",
   "execution_count": 477,
   "outputs": [],
   "source": [
    "model = Ridge(alpha=1)"
   ],
   "metadata": {
    "collapsed": false,
    "pycharm": {
     "name": "#%%\n"
    }
   }
  },
  {
   "cell_type": "code",
   "execution_count": 478,
   "outputs": [],
   "source": [
    "scores = cross_val_score(model, X_train,y_train,scoring='neg_mean_squared_error',cv=5)"
   ],
   "metadata": {
    "collapsed": false,
    "pycharm": {
     "name": "#%%\n"
    }
   }
  },
  {
   "cell_type": "code",
   "execution_count": 479,
   "outputs": [
    {
     "data": {
      "text/plain": "array([-3.23888218, -1.53762077, -5.34716477, -2.15662944, -4.51090513])"
     },
     "execution_count": 479,
     "metadata": {},
     "output_type": "execute_result"
    }
   ],
   "source": [
    "scores"
   ],
   "metadata": {
    "collapsed": false,
    "pycharm": {
     "name": "#%%\n"
    }
   }
  },
  {
   "cell_type": "code",
   "execution_count": 480,
   "outputs": [
    {
     "data": {
      "text/plain": "3.3582404599474787"
     },
     "execution_count": 480,
     "metadata": {},
     "output_type": "execute_result"
    }
   ],
   "source": [
    "abs(scores.mean())"
   ],
   "metadata": {
    "collapsed": false,
    "pycharm": {
     "name": "#%%\n"
    }
   }
  },
  {
   "cell_type": "code",
   "execution_count": 481,
   "outputs": [
    {
     "data": {
      "text/plain": "Ridge(alpha=1)"
     },
     "execution_count": 481,
     "metadata": {},
     "output_type": "execute_result"
    }
   ],
   "source": [
    "model.fit(X_train,y_train)"
   ],
   "metadata": {
    "collapsed": false,
    "pycharm": {
     "name": "#%%\n"
    }
   }
  },
  {
   "cell_type": "code",
   "execution_count": 482,
   "outputs": [],
   "source": [
    "y_final_predd = model.predict(X_test)"
   ],
   "metadata": {
    "collapsed": false,
    "pycharm": {
     "name": "#%%\n"
    }
   }
  },
  {
   "cell_type": "code",
   "execution_count": 483,
   "outputs": [
    {
     "data": {
      "text/plain": "124.30012747537737"
     },
     "execution_count": 483,
     "metadata": {},
     "output_type": "execute_result"
    }
   ],
   "source": [
    "mean_squared_error(y_test,y_final_predd)"
   ],
   "metadata": {
    "collapsed": false,
    "pycharm": {
     "name": "#%%\n"
    }
   }
  },
  {
   "cell_type": "code",
   "execution_count": 484,
   "outputs": [],
   "source": [
    "X = df.drop('Sales',axis=1)\n",
    "y = df['Sales']"
   ],
   "metadata": {
    "collapsed": false,
    "pycharm": {
     "name": "#%%\n"
    }
   }
  },
  {
   "cell_type": "code",
   "execution_count": 485,
   "outputs": [
    {
     "data": {
      "text/plain": "0      22.1\n1      10.4\n2       9.3\n3      18.5\n4      12.9\n       ... \n195     7.6\n196     9.7\n197    12.8\n198    25.5\n199    13.4\nName: Sales, Length: 200, dtype: float64"
     },
     "execution_count": 485,
     "metadata": {},
     "output_type": "execute_result"
    }
   ],
   "source": [
    "y"
   ],
   "metadata": {
    "collapsed": false,
    "pycharm": {
     "name": "#%%\n"
    }
   }
  },
  {
   "cell_type": "code",
   "execution_count": 486,
   "outputs": [],
   "source": [
    "X_train, X_test, y_train, y_test = train_test_split(X, y, test_size=0.3, random_state=101)"
   ],
   "metadata": {
    "collapsed": false,
    "pycharm": {
     "name": "#%%\n"
    }
   }
  },
  {
   "cell_type": "code",
   "execution_count": 487,
   "outputs": [],
   "source": [
    "scaler= StandardScaler()"
   ],
   "metadata": {
    "collapsed": false,
    "pycharm": {
     "name": "#%%\n"
    }
   }
  },
  {
   "cell_type": "code",
   "execution_count": 488,
   "outputs": [
    {
     "data": {
      "text/plain": "StandardScaler()"
     },
     "execution_count": 488,
     "metadata": {},
     "output_type": "execute_result"
    }
   ],
   "source": [
    "scaler.fit(X_train)"
   ],
   "metadata": {
    "collapsed": false,
    "pycharm": {
     "name": "#%%\n"
    }
   }
  },
  {
   "cell_type": "code",
   "execution_count": 489,
   "outputs": [],
   "source": [
    "X_train = scaler.transform(X_train)"
   ],
   "metadata": {
    "collapsed": false,
    "pycharm": {
     "name": "#%%\n"
    }
   }
  },
  {
   "cell_type": "code",
   "execution_count": 490,
   "outputs": [],
   "source": [
    "X_test = scaler.transform(X_test)"
   ],
   "metadata": {
    "collapsed": false,
    "pycharm": {
     "name": "#%%\n"
    }
   }
  },
  {
   "cell_type": "code",
   "execution_count": 491,
   "outputs": [],
   "source": [
    "from sklearn.model_selection import cross_validate"
   ],
   "metadata": {
    "collapsed": false,
    "pycharm": {
     "name": "#%%\n"
    }
   }
  },
  {
   "cell_type": "code",
   "execution_count": 492,
   "outputs": [],
   "source": [
    "model = Ridge(alpha=100)"
   ],
   "metadata": {
    "collapsed": false,
    "pycharm": {
     "name": "#%%\n"
    }
   }
  },
  {
   "cell_type": "code",
   "execution_count": 493,
   "outputs": [],
   "source": [
    "scores = cross_validate(model, X_train,y_train, scoring = ['neg_mean_squared_error','neg_mean_absolute_error' ], cv=10)"
   ],
   "metadata": {
    "collapsed": false,
    "pycharm": {
     "name": "#%%\n"
    }
   }
  },
  {
   "cell_type": "code",
   "execution_count": 494,
   "outputs": [],
   "source": [
    "scores = pd.DataFrame(scores)"
   ],
   "metadata": {
    "collapsed": false,
    "pycharm": {
     "name": "#%%\n"
    }
   }
  },
  {
   "cell_type": "code",
   "execution_count": 495,
   "outputs": [
    {
     "data": {
      "text/plain": "   fit_time  score_time  test_neg_mean_squared_error  \\\n0  0.001000    0.000000                    -6.090523   \n1  0.000000    0.001000                   -10.766519   \n2  0.001000    0.001001                    -4.037940   \n3  0.001000    0.000000                    -5.030596   \n4  0.000999    0.000000                    -9.145975   \n5  0.000000    0.001000                   -13.129998   \n6  0.001005    0.000997                    -3.838210   \n7  0.004000    0.002002                    -9.060404   \n8  0.000996    0.000000                    -9.164486   \n9  0.001000    0.001000                    -5.748145   \n\n   test_neg_mean_absolute_error  \n0                     -1.808958  \n1                     -2.507383  \n2                     -1.484465  \n3                     -1.876714  \n4                     -2.516665  \n5                     -2.467178  \n6                     -1.451816  \n7                     -2.360444  \n8                     -2.439261  \n9                     -1.890253  ",
      "text/html": "<div>\n<style scoped>\n    .dataframe tbody tr th:only-of-type {\n        vertical-align: middle;\n    }\n\n    .dataframe tbody tr th {\n        vertical-align: top;\n    }\n\n    .dataframe thead th {\n        text-align: right;\n    }\n</style>\n<table border=\"1\" class=\"dataframe\">\n  <thead>\n    <tr style=\"text-align: right;\">\n      <th></th>\n      <th>fit_time</th>\n      <th>score_time</th>\n      <th>test_neg_mean_squared_error</th>\n      <th>test_neg_mean_absolute_error</th>\n    </tr>\n  </thead>\n  <tbody>\n    <tr>\n      <th>0</th>\n      <td>0.001000</td>\n      <td>0.000000</td>\n      <td>-6.090523</td>\n      <td>-1.808958</td>\n    </tr>\n    <tr>\n      <th>1</th>\n      <td>0.000000</td>\n      <td>0.001000</td>\n      <td>-10.766519</td>\n      <td>-2.507383</td>\n    </tr>\n    <tr>\n      <th>2</th>\n      <td>0.001000</td>\n      <td>0.001001</td>\n      <td>-4.037940</td>\n      <td>-1.484465</td>\n    </tr>\n    <tr>\n      <th>3</th>\n      <td>0.001000</td>\n      <td>0.000000</td>\n      <td>-5.030596</td>\n      <td>-1.876714</td>\n    </tr>\n    <tr>\n      <th>4</th>\n      <td>0.000999</td>\n      <td>0.000000</td>\n      <td>-9.145975</td>\n      <td>-2.516665</td>\n    </tr>\n    <tr>\n      <th>5</th>\n      <td>0.000000</td>\n      <td>0.001000</td>\n      <td>-13.129998</td>\n      <td>-2.467178</td>\n    </tr>\n    <tr>\n      <th>6</th>\n      <td>0.001005</td>\n      <td>0.000997</td>\n      <td>-3.838210</td>\n      <td>-1.451816</td>\n    </tr>\n    <tr>\n      <th>7</th>\n      <td>0.004000</td>\n      <td>0.002002</td>\n      <td>-9.060404</td>\n      <td>-2.360444</td>\n    </tr>\n    <tr>\n      <th>8</th>\n      <td>0.000996</td>\n      <td>0.000000</td>\n      <td>-9.164486</td>\n      <td>-2.439261</td>\n    </tr>\n    <tr>\n      <th>9</th>\n      <td>0.001000</td>\n      <td>0.001000</td>\n      <td>-5.748145</td>\n      <td>-1.890253</td>\n    </tr>\n  </tbody>\n</table>\n</div>"
     },
     "execution_count": 495,
     "metadata": {},
     "output_type": "execute_result"
    }
   ],
   "source": [
    "scores"
   ],
   "metadata": {
    "collapsed": false,
    "pycharm": {
     "name": "#%%\n"
    }
   }
  },
  {
   "cell_type": "code",
   "execution_count": 496,
   "outputs": [
    {
     "data": {
      "text/plain": "fit_time                        0.001100\nscore_time                      0.000700\ntest_neg_mean_squared_error    -7.601280\ntest_neg_mean_absolute_error   -2.080314\ndtype: float64"
     },
     "execution_count": 496,
     "metadata": {},
     "output_type": "execute_result"
    }
   ],
   "source": [
    "scores.mean()"
   ],
   "metadata": {
    "collapsed": false,
    "pycharm": {
     "name": "#%%\n"
    }
   }
  },
  {
   "cell_type": "code",
   "execution_count": 497,
   "outputs": [],
   "source": [
    "model = Ridge(alpha=1)"
   ],
   "metadata": {
    "collapsed": false,
    "pycharm": {
     "name": "#%%\n"
    }
   }
  },
  {
   "cell_type": "code",
   "execution_count": 498,
   "outputs": [],
   "source": [
    "scores = cross_validate(model, X_train,y_train, scoring = ['neg_mean_squared_error','neg_mean_absolute_error' ], cv=10)"
   ],
   "metadata": {
    "collapsed": false,
    "pycharm": {
     "name": "#%%\n"
    }
   }
  },
  {
   "cell_type": "code",
   "execution_count": 499,
   "outputs": [],
   "source": [
    "scores = pd.DataFrame(scores)"
   ],
   "metadata": {
    "collapsed": false,
    "pycharm": {
     "name": "#%%\n"
    }
   }
  },
  {
   "cell_type": "code",
   "execution_count": 500,
   "outputs": [
    {
     "data": {
      "text/plain": "fit_time                        0.001700\nscore_time                      0.001600\ntest_neg_mean_squared_error    -3.341985\ntest_neg_mean_absolute_error   -1.303906\ndtype: float64"
     },
     "execution_count": 500,
     "metadata": {},
     "output_type": "execute_result"
    }
   ],
   "source": [
    "scores.mean()"
   ],
   "metadata": {
    "collapsed": false,
    "pycharm": {
     "name": "#%%\n"
    }
   }
  },
  {
   "cell_type": "code",
   "execution_count": 501,
   "outputs": [],
   "source": [
    "#################################################################\n"
   ],
   "metadata": {
    "collapsed": false,
    "pycharm": {
     "name": "#%%\n"
    }
   }
  },
  {
   "cell_type": "code",
   "execution_count": 502,
   "outputs": [],
   "source": [
    "X = df.drop('Sales', axis=1)\n",
    "y = df['Sales']\n",
    "\n",
    "X_train, X_test, y_train, y_test = train_test_split(X, y, test_size=0.3, random_state=101)\n",
    "\n",
    "scaler = StandardScaler()\n",
    "scaler.fit(X_train)\n",
    "\n",
    "X_train = scaler.transform(X_train)\n",
    "X_test = scaler.transform(X_test)"
   ],
   "metadata": {
    "collapsed": false,
    "pycharm": {
     "name": "#%%\n"
    }
   }
  },
  {
   "cell_type": "code",
   "execution_count": 503,
   "outputs": [],
   "source": [
    "from sklearn.linear_model import ElasticNet"
   ],
   "metadata": {
    "collapsed": false,
    "pycharm": {
     "name": "#%%\n"
    }
   }
  },
  {
   "cell_type": "code",
   "execution_count": 504,
   "outputs": [],
   "source": [
    "elastic_net = ElasticNet()"
   ],
   "metadata": {
    "collapsed": false,
    "pycharm": {
     "name": "#%%\n"
    }
   }
  },
  {
   "cell_type": "code",
   "execution_count": 505,
   "outputs": [],
   "source": [
    "params = {'alpha':[0.1,1,5,10,50,100], 'l1_ratio':[.1,.5,.7,.95,.99,1]}"
   ],
   "metadata": {
    "collapsed": false,
    "pycharm": {
     "name": "#%%\n"
    }
   }
  },
  {
   "cell_type": "code",
   "execution_count": 506,
   "outputs": [],
   "source": [
    "from sklearn.model_selection import GridSearchCV"
   ],
   "metadata": {
    "collapsed": false,
    "pycharm": {
     "name": "#%%\n"
    }
   }
  },
  {
   "cell_type": "code",
   "execution_count": 507,
   "outputs": [],
   "source": [
    "grid_model = GridSearchCV(estimator=elastic_net, param_grid=params, scoring='neg_mean_squared_error', cv=5, verbose=2)"
   ],
   "metadata": {
    "collapsed": false,
    "pycharm": {
     "name": "#%%\n"
    }
   }
  },
  {
   "cell_type": "code",
   "execution_count": 508,
   "outputs": [
    {
     "name": "stdout",
     "output_type": "stream",
     "text": [
      "Fitting 5 folds for each of 36 candidates, totalling 180 fits\n",
      "[CV] alpha=0.1, l1_ratio=0.1 .........................................\n",
      "[CV] .......................... alpha=0.1, l1_ratio=0.1, total=   0.0s\n",
      "[CV] alpha=0.1, l1_ratio=0.1 .........................................\n",
      "[CV] .......................... alpha=0.1, l1_ratio=0.1, total=   0.0s\n",
      "[CV] alpha=0.1, l1_ratio=0.1 .........................................\n",
      "[CV] .......................... alpha=0.1, l1_ratio=0.1, total=   0.0s\n",
      "[CV] alpha=0.1, l1_ratio=0.1 .........................................\n",
      "[CV] .......................... alpha=0.1, l1_ratio=0.1, total=   0.0s\n",
      "[CV] alpha=0.1, l1_ratio=0.1 .........................................\n",
      "[CV] .......................... alpha=0.1, l1_ratio=0.1, total=   0.0s\n",
      "[CV] alpha=0.1, l1_ratio=0.5 .........................................\n",
      "[CV] .......................... alpha=0.1, l1_ratio=0.5, total=   0.0s\n",
      "[CV] alpha=0.1, l1_ratio=0.5 .........................................\n",
      "[CV] .......................... alpha=0.1, l1_ratio=0.5, total=   0.0s\n",
      "[CV] alpha=0.1, l1_ratio=0.5 .........................................\n",
      "[CV] .......................... alpha=0.1, l1_ratio=0.5, total=   0.0s\n",
      "[CV] alpha=0.1, l1_ratio=0.5 .........................................\n",
      "[CV] .......................... alpha=0.1, l1_ratio=0.5, total=   0.0s\n",
      "[CV] alpha=0.1, l1_ratio=0.5 .........................................\n",
      "[CV] .......................... alpha=0.1, l1_ratio=0.5, total=   0.0s\n",
      "[CV] alpha=0.1, l1_ratio=0.7 .........................................\n",
      "[CV] .......................... alpha=0.1, l1_ratio=0.7, total=   0.0s\n",
      "[CV] alpha=0.1, l1_ratio=0.7 .........................................\n",
      "[CV] .......................... alpha=0.1, l1_ratio=0.7, total=   0.0s\n",
      "[CV] alpha=0.1, l1_ratio=0.7 .........................................\n",
      "[CV] .......................... alpha=0.1, l1_ratio=0.7, total=   0.0s\n",
      "[CV] alpha=0.1, l1_ratio=0.7 .........................................\n",
      "[CV] .......................... alpha=0.1, l1_ratio=0.7, total=   0.0s\n",
      "[CV] alpha=0.1, l1_ratio=0.7 .........................................\n",
      "[CV] .......................... alpha=0.1, l1_ratio=0.7, total=   0.0s\n",
      "[CV] alpha=0.1, l1_ratio=0.95 ........................................\n",
      "[CV] ......................... alpha=0.1, l1_ratio=0.95, total=   0.0s\n",
      "[CV] alpha=0.1, l1_ratio=0.95 ........................................\n",
      "[CV] ......................... alpha=0.1, l1_ratio=0.95, total=   0.0s\n",
      "[CV] alpha=0.1, l1_ratio=0.95 ........................................\n",
      "[CV] ......................... alpha=0.1, l1_ratio=0.95, total=   0.0s\n",
      "[CV] alpha=0.1, l1_ratio=0.95 ........................................\n",
      "[CV] ......................... alpha=0.1, l1_ratio=0.95, total=   0.0s\n",
      "[CV] alpha=0.1, l1_ratio=0.95 ........................................\n",
      "[CV] ......................... alpha=0.1, l1_ratio=0.95, total=   0.0s\n",
      "[CV] alpha=0.1, l1_ratio=0.99 ........................................\n",
      "[CV] ......................... alpha=0.1, l1_ratio=0.99, total=   0.0s\n",
      "[CV] alpha=0.1, l1_ratio=0.99 ........................................\n",
      "[CV] ......................... alpha=0.1, l1_ratio=0.99, total=   0.0s\n",
      "[CV] alpha=0.1, l1_ratio=0.99 ........................................\n",
      "[CV] ......................... alpha=0.1, l1_ratio=0.99, total=   0.0s\n",
      "[CV] alpha=0.1, l1_ratio=0.99 ........................................\n",
      "[CV] ......................... alpha=0.1, l1_ratio=0.99, total=   0.0s\n",
      "[CV] alpha=0.1, l1_ratio=0.99 ........................................\n",
      "[CV] ......................... alpha=0.1, l1_ratio=0.99, total=   0.0s\n",
      "[CV] alpha=0.1, l1_ratio=1 ...........................................\n",
      "[CV] ............................ alpha=0.1, l1_ratio=1, total=   0.0s\n",
      "[CV] alpha=0.1, l1_ratio=1 ...........................................\n",
      "[CV] ............................ alpha=0.1, l1_ratio=1, total=   0.0s\n",
      "[CV] alpha=0.1, l1_ratio=1 ...........................................\n",
      "[CV] ............................ alpha=0.1, l1_ratio=1, total=   0.0s\n",
      "[CV] alpha=0.1, l1_ratio=1 ...........................................\n",
      "[CV] ............................ alpha=0.1, l1_ratio=1, total=   0.0s\n",
      "[CV] alpha=0.1, l1_ratio=1 ...........................................\n",
      "[CV] ............................ alpha=0.1, l1_ratio=1, total=   0.0s\n",
      "[CV] alpha=1, l1_ratio=0.1 ...........................................\n",
      "[CV] ............................ alpha=1, l1_ratio=0.1, total=   0.0s\n",
      "[CV] alpha=1, l1_ratio=0.1 ...........................................\n",
      "[CV] ............................ alpha=1, l1_ratio=0.1, total=   0.0s\n",
      "[CV] alpha=1, l1_ratio=0.1 ...........................................\n",
      "[CV] ............................ alpha=1, l1_ratio=0.1, total=   0.0s\n",
      "[CV] alpha=1, l1_ratio=0.1 ...........................................\n",
      "[CV] ............................ alpha=1, l1_ratio=0.1, total=   0.0s\n",
      "[CV] alpha=1, l1_ratio=0.1 ...........................................\n",
      "[CV] ............................ alpha=1, l1_ratio=0.1, total=   0.0s\n",
      "[CV] alpha=1, l1_ratio=0.5 ...........................................\n",
      "[CV] ............................ alpha=1, l1_ratio=0.5, total=   0.0s\n",
      "[CV] alpha=1, l1_ratio=0.5 ...........................................\n",
      "[CV] ............................ alpha=1, l1_ratio=0.5, total=   0.0s\n",
      "[CV] alpha=1, l1_ratio=0.5 ...........................................\n",
      "[CV] ............................ alpha=1, l1_ratio=0.5, total=   0.0s\n",
      "[CV] alpha=1, l1_ratio=0.5 ...........................................\n",
      "[CV] ............................ alpha=1, l1_ratio=0.5, total=   0.0s\n",
      "[CV] alpha=1, l1_ratio=0.5 ...........................................\n",
      "[CV] ............................ alpha=1, l1_ratio=0.5, total=   0.0s\n",
      "[CV] alpha=1, l1_ratio=0.7 ...........................................\n",
      "[CV] ............................ alpha=1, l1_ratio=0.7, total=   0.0s\n",
      "[CV] alpha=1, l1_ratio=0.7 ...........................................\n",
      "[CV] ............................ alpha=1, l1_ratio=0.7, total=   0.0s\n",
      "[CV] alpha=1, l1_ratio=0.7 ...........................................\n",
      "[CV] ............................ alpha=1, l1_ratio=0.7, total=   0.0s\n",
      "[CV] alpha=1, l1_ratio=0.7 ...........................................\n",
      "[CV] ............................ alpha=1, l1_ratio=0.7, total=   0.0s\n",
      "[CV] alpha=1, l1_ratio=0.7 ...........................................\n",
      "[CV] ............................ alpha=1, l1_ratio=0.7, total=   0.0s\n",
      "[CV] alpha=1, l1_ratio=0.95 ..........................................\n",
      "[CV] ........................... alpha=1, l1_ratio=0.95, total=   0.0s\n",
      "[CV] alpha=1, l1_ratio=0.95 ..........................................\n",
      "[CV] ........................... alpha=1, l1_ratio=0.95, total=   0.0s\n",
      "[CV] alpha=1, l1_ratio=0.95 ..........................................\n",
      "[CV] ........................... alpha=1, l1_ratio=0.95, total=   0.0s\n",
      "[CV] alpha=1, l1_ratio=0.95 ..........................................\n",
      "[CV] ........................... alpha=1, l1_ratio=0.95, total=   0.0s\n",
      "[CV] alpha=1, l1_ratio=0.95 ..........................................\n",
      "[CV] ........................... alpha=1, l1_ratio=0.95, total=   0.0s\n",
      "[CV] alpha=1, l1_ratio=0.99 ..........................................\n",
      "[CV] ........................... alpha=1, l1_ratio=0.99, total=   0.0s\n",
      "[CV] alpha=1, l1_ratio=0.99 ..........................................\n",
      "[CV] ........................... alpha=1, l1_ratio=0.99, total=   0.0s\n",
      "[CV] alpha=1, l1_ratio=0.99 ..........................................\n",
      "[CV] ........................... alpha=1, l1_ratio=0.99, total=   0.0s\n",
      "[CV] alpha=1, l1_ratio=0.99 ..........................................\n",
      "[CV] ........................... alpha=1, l1_ratio=0.99, total=   0.0s\n",
      "[CV] alpha=1, l1_ratio=0.99 ..........................................\n",
      "[CV] ........................... alpha=1, l1_ratio=0.99, total=   0.0s\n",
      "[CV] alpha=1, l1_ratio=1 .............................................\n",
      "[CV] .............................. alpha=1, l1_ratio=1, total=   0.0s\n",
      "[CV] alpha=1, l1_ratio=1 .............................................\n",
      "[CV] .............................. alpha=1, l1_ratio=1, total=   0.0s\n",
      "[CV] alpha=1, l1_ratio=1 .............................................\n",
      "[CV] .............................. alpha=1, l1_ratio=1, total=   0.0s\n",
      "[CV] alpha=1, l1_ratio=1 .............................................\n",
      "[CV] .............................. alpha=1, l1_ratio=1, total=   0.0s\n",
      "[CV] alpha=1, l1_ratio=1 .............................................\n",
      "[CV] .............................. alpha=1, l1_ratio=1, total=   0.0s\n",
      "[CV] alpha=5, l1_ratio=0.1 ...........................................\n",
      "[CV] ............................ alpha=5, l1_ratio=0.1, total=   0.0s\n",
      "[CV] alpha=5, l1_ratio=0.1 ...........................................\n",
      "[CV] ............................ alpha=5, l1_ratio=0.1, total=   0.0s\n",
      "[CV] alpha=5, l1_ratio=0.1 ...........................................\n",
      "[CV] ............................ alpha=5, l1_ratio=0.1, total=   0.0s\n",
      "[CV] alpha=5, l1_ratio=0.1 ...........................................\n",
      "[CV] ............................ alpha=5, l1_ratio=0.1, total=   0.0s\n",
      "[CV] alpha=5, l1_ratio=0.1 ...........................................\n",
      "[CV] ............................ alpha=5, l1_ratio=0.1, total=   0.0s\n",
      "[CV] alpha=5, l1_ratio=0.5 ...........................................\n",
      "[CV] ............................ alpha=5, l1_ratio=0.5, total=   0.0s\n",
      "[CV] alpha=5, l1_ratio=0.5 ...........................................\n",
      "[CV] ............................ alpha=5, l1_ratio=0.5, total=   0.0s\n",
      "[CV] alpha=5, l1_ratio=0.5 ...........................................\n",
      "[CV] ............................ alpha=5, l1_ratio=0.5, total=   0.0s\n",
      "[CV] alpha=5, l1_ratio=0.5 ...........................................\n"
     ]
    },
    {
     "name": "stderr",
     "output_type": "stream",
     "text": [
      "[Parallel(n_jobs=1)]: Using backend SequentialBackend with 1 concurrent workers.\n",
      "[Parallel(n_jobs=1)]: Done   1 out of   1 | elapsed:    0.0s remaining:    0.0s\n"
     ]
    },
    {
     "name": "stdout",
     "output_type": "stream",
     "text": [
      "[CV] ............................ alpha=5, l1_ratio=0.5, total=   0.0s\n",
      "[CV] alpha=5, l1_ratio=0.5 ...........................................\n",
      "[CV] ............................ alpha=5, l1_ratio=0.5, total=   0.0s\n",
      "[CV] alpha=5, l1_ratio=0.7 ...........................................\n",
      "[CV] ............................ alpha=5, l1_ratio=0.7, total=   0.0s\n",
      "[CV] alpha=5, l1_ratio=0.7 ...........................................\n",
      "[CV] ............................ alpha=5, l1_ratio=0.7, total=   0.0s\n",
      "[CV] alpha=5, l1_ratio=0.7 ...........................................\n",
      "[CV] ............................ alpha=5, l1_ratio=0.7, total=   0.0s\n",
      "[CV] alpha=5, l1_ratio=0.7 ...........................................\n",
      "[CV] ............................ alpha=5, l1_ratio=0.7, total=   0.0s\n",
      "[CV] alpha=5, l1_ratio=0.7 ...........................................\n",
      "[CV] ............................ alpha=5, l1_ratio=0.7, total=   0.0s\n",
      "[CV] alpha=5, l1_ratio=0.95 ..........................................\n",
      "[CV] ........................... alpha=5, l1_ratio=0.95, total=   0.0s\n",
      "[CV] alpha=5, l1_ratio=0.95 ..........................................\n",
      "[CV] ........................... alpha=5, l1_ratio=0.95, total=   0.0s\n",
      "[CV] alpha=5, l1_ratio=0.95 ..........................................\n",
      "[CV] ........................... alpha=5, l1_ratio=0.95, total=   0.0s\n",
      "[CV] alpha=5, l1_ratio=0.95 ..........................................\n",
      "[CV] ........................... alpha=5, l1_ratio=0.95, total=   0.0s\n",
      "[CV] alpha=5, l1_ratio=0.95 ..........................................\n",
      "[CV] ........................... alpha=5, l1_ratio=0.95, total=   0.0s\n",
      "[CV] alpha=5, l1_ratio=0.99 ..........................................\n",
      "[CV] ........................... alpha=5, l1_ratio=0.99, total=   0.0s\n",
      "[CV] alpha=5, l1_ratio=0.99 ..........................................\n",
      "[CV] ........................... alpha=5, l1_ratio=0.99, total=   0.0s\n",
      "[CV] alpha=5, l1_ratio=0.99 ..........................................\n",
      "[CV] ........................... alpha=5, l1_ratio=0.99, total=   0.0s\n",
      "[CV] alpha=5, l1_ratio=0.99 ..........................................\n",
      "[CV] ........................... alpha=5, l1_ratio=0.99, total=   0.0s\n",
      "[CV] alpha=5, l1_ratio=0.99 ..........................................\n",
      "[CV] ........................... alpha=5, l1_ratio=0.99, total=   0.0s\n",
      "[CV] alpha=5, l1_ratio=1 .............................................\n",
      "[CV] .............................. alpha=5, l1_ratio=1, total=   0.0s\n",
      "[CV] alpha=5, l1_ratio=1 .............................................\n",
      "[CV] .............................. alpha=5, l1_ratio=1, total=   0.0s\n",
      "[CV] alpha=5, l1_ratio=1 .............................................\n",
      "[CV] .............................. alpha=5, l1_ratio=1, total=   0.0s\n",
      "[CV] alpha=5, l1_ratio=1 .............................................\n",
      "[CV] .............................. alpha=5, l1_ratio=1, total=   0.0s\n",
      "[CV] alpha=5, l1_ratio=1 .............................................\n",
      "[CV] .............................. alpha=5, l1_ratio=1, total=   0.0s\n",
      "[CV] alpha=10, l1_ratio=0.1 ..........................................\n",
      "[CV] ........................... alpha=10, l1_ratio=0.1, total=   0.0s\n",
      "[CV] alpha=10, l1_ratio=0.1 ..........................................\n",
      "[CV] ........................... alpha=10, l1_ratio=0.1, total=   0.0s\n",
      "[CV] alpha=10, l1_ratio=0.1 ..........................................\n",
      "[CV] ........................... alpha=10, l1_ratio=0.1, total=   0.0s\n",
      "[CV] alpha=10, l1_ratio=0.1 ..........................................\n",
      "[CV] ........................... alpha=10, l1_ratio=0.1, total=   0.0s\n",
      "[CV] alpha=10, l1_ratio=0.1 ..........................................\n",
      "[CV] ........................... alpha=10, l1_ratio=0.1, total=   0.0s\n",
      "[CV] alpha=10, l1_ratio=0.5 ..........................................\n",
      "[CV] ........................... alpha=10, l1_ratio=0.5, total=   0.0s\n",
      "[CV] alpha=10, l1_ratio=0.5 ..........................................\n",
      "[CV] ........................... alpha=10, l1_ratio=0.5, total=   0.0s\n",
      "[CV] alpha=10, l1_ratio=0.5 ..........................................\n",
      "[CV] ........................... alpha=10, l1_ratio=0.5, total=   0.0s\n",
      "[CV] alpha=10, l1_ratio=0.5 ..........................................\n",
      "[CV] ........................... alpha=10, l1_ratio=0.5, total=   0.0s\n",
      "[CV] alpha=10, l1_ratio=0.5 ..........................................\n",
      "[CV] ........................... alpha=10, l1_ratio=0.5, total=   0.0s\n",
      "[CV] alpha=10, l1_ratio=0.7 ..........................................\n",
      "[CV] ........................... alpha=10, l1_ratio=0.7, total=   0.0s\n",
      "[CV] alpha=10, l1_ratio=0.7 ..........................................\n",
      "[CV] ........................... alpha=10, l1_ratio=0.7, total=   0.0s\n",
      "[CV] alpha=10, l1_ratio=0.7 ..........................................\n",
      "[CV] ........................... alpha=10, l1_ratio=0.7, total=   0.0s\n",
      "[CV] alpha=10, l1_ratio=0.7 ..........................................\n",
      "[CV] ........................... alpha=10, l1_ratio=0.7, total=   0.0s\n",
      "[CV] alpha=10, l1_ratio=0.7 ..........................................\n",
      "[CV] ........................... alpha=10, l1_ratio=0.7, total=   0.0s\n",
      "[CV] alpha=10, l1_ratio=0.95 .........................................\n",
      "[CV] .......................... alpha=10, l1_ratio=0.95, total=   0.0s\n",
      "[CV] alpha=10, l1_ratio=0.95 .........................................\n",
      "[CV] .......................... alpha=10, l1_ratio=0.95, total=   0.0s\n",
      "[CV] alpha=10, l1_ratio=0.95 .........................................\n",
      "[CV] .......................... alpha=10, l1_ratio=0.95, total=   0.0s\n",
      "[CV] alpha=10, l1_ratio=0.95 .........................................\n",
      "[CV] .......................... alpha=10, l1_ratio=0.95, total=   0.0s\n",
      "[CV] alpha=10, l1_ratio=0.95 .........................................\n",
      "[CV] .......................... alpha=10, l1_ratio=0.95, total=   0.0s\n",
      "[CV] alpha=10, l1_ratio=0.99 .........................................\n",
      "[CV] .......................... alpha=10, l1_ratio=0.99, total=   0.0s\n",
      "[CV] alpha=10, l1_ratio=0.99 .........................................\n",
      "[CV] .......................... alpha=10, l1_ratio=0.99, total=   0.0s\n",
      "[CV] alpha=10, l1_ratio=0.99 .........................................\n",
      "[CV] .......................... alpha=10, l1_ratio=0.99, total=   0.0s\n",
      "[CV] alpha=10, l1_ratio=0.99 .........................................\n",
      "[CV] .......................... alpha=10, l1_ratio=0.99, total=   0.0s\n",
      "[CV] alpha=10, l1_ratio=0.99 .........................................\n",
      "[CV] .......................... alpha=10, l1_ratio=0.99, total=   0.0s\n",
      "[CV] alpha=10, l1_ratio=1 ............................................\n",
      "[CV] ............................. alpha=10, l1_ratio=1, total=   0.0s\n",
      "[CV] alpha=10, l1_ratio=1 ............................................\n",
      "[CV] ............................. alpha=10, l1_ratio=1, total=   0.0s\n",
      "[CV] alpha=10, l1_ratio=1 ............................................\n",
      "[CV] ............................. alpha=10, l1_ratio=1, total=   0.0s\n",
      "[CV] alpha=10, l1_ratio=1 ............................................\n",
      "[CV] ............................. alpha=10, l1_ratio=1, total=   0.0s\n",
      "[CV] alpha=10, l1_ratio=1 ............................................\n",
      "[CV] ............................. alpha=10, l1_ratio=1, total=   0.0s\n",
      "[CV] alpha=50, l1_ratio=0.1 ..........................................\n",
      "[CV] ........................... alpha=50, l1_ratio=0.1, total=   0.0s\n",
      "[CV] alpha=50, l1_ratio=0.1 ..........................................\n",
      "[CV] ........................... alpha=50, l1_ratio=0.1, total=   0.0s\n",
      "[CV] alpha=50, l1_ratio=0.1 ..........................................\n",
      "[CV] ........................... alpha=50, l1_ratio=0.1, total=   0.0s\n",
      "[CV] alpha=50, l1_ratio=0.1 ..........................................\n",
      "[CV] ........................... alpha=50, l1_ratio=0.1, total=   0.0s\n",
      "[CV] alpha=50, l1_ratio=0.1 ..........................................\n",
      "[CV] ........................... alpha=50, l1_ratio=0.1, total=   0.0s\n",
      "[CV] alpha=50, l1_ratio=0.5 ..........................................\n",
      "[CV] ........................... alpha=50, l1_ratio=0.5, total=   0.0s\n",
      "[CV] alpha=50, l1_ratio=0.5 ..........................................\n",
      "[CV] ........................... alpha=50, l1_ratio=0.5, total=   0.0s\n",
      "[CV] alpha=50, l1_ratio=0.5 ..........................................\n",
      "[CV] ........................... alpha=50, l1_ratio=0.5, total=   0.0s\n",
      "[CV] alpha=50, l1_ratio=0.5 ..........................................\n",
      "[CV] ........................... alpha=50, l1_ratio=0.5, total=   0.0s\n",
      "[CV] alpha=50, l1_ratio=0.5 ..........................................\n",
      "[CV] ........................... alpha=50, l1_ratio=0.5, total=   0.0s\n",
      "[CV] alpha=50, l1_ratio=0.7 ..........................................\n",
      "[CV] ........................... alpha=50, l1_ratio=0.7, total=   0.0s\n",
      "[CV] alpha=50, l1_ratio=0.7 ..........................................\n",
      "[CV] ........................... alpha=50, l1_ratio=0.7, total=   0.0s\n",
      "[CV] alpha=50, l1_ratio=0.7 ..........................................\n",
      "[CV] ........................... alpha=50, l1_ratio=0.7, total=   0.0s\n",
      "[CV] alpha=50, l1_ratio=0.7 ..........................................\n",
      "[CV] ........................... alpha=50, l1_ratio=0.7, total=   0.0s\n",
      "[CV] alpha=50, l1_ratio=0.7 ..........................................\n",
      "[CV] ........................... alpha=50, l1_ratio=0.7, total=   0.0s\n",
      "[CV] alpha=50, l1_ratio=0.95 .........................................\n",
      "[CV] .......................... alpha=50, l1_ratio=0.95, total=   0.0s\n",
      "[CV] alpha=50, l1_ratio=0.95 .........................................\n",
      "[CV] .......................... alpha=50, l1_ratio=0.95, total=   0.0s\n",
      "[CV] alpha=50, l1_ratio=0.95 .........................................\n",
      "[CV] .......................... alpha=50, l1_ratio=0.95, total=   0.0s\n",
      "[CV] alpha=50, l1_ratio=0.95 .........................................\n",
      "[CV] .......................... alpha=50, l1_ratio=0.95, total=   0.0s\n",
      "[CV] alpha=50, l1_ratio=0.95 .........................................\n",
      "[CV] .......................... alpha=50, l1_ratio=0.95, total=   0.0s\n",
      "[CV] alpha=50, l1_ratio=0.99 .........................................\n",
      "[CV] .......................... alpha=50, l1_ratio=0.99, total=   0.0s\n",
      "[CV] alpha=50, l1_ratio=0.99 .........................................\n",
      "[CV] .......................... alpha=50, l1_ratio=0.99, total=   0.0s\n",
      "[CV] alpha=50, l1_ratio=0.99 .........................................\n",
      "[CV] .......................... alpha=50, l1_ratio=0.99, total=   0.0s\n",
      "[CV] alpha=50, l1_ratio=0.99 .........................................\n",
      "[CV] .......................... alpha=50, l1_ratio=0.99, total=   0.0s\n",
      "[CV] alpha=50, l1_ratio=0.99 .........................................\n",
      "[CV] .......................... alpha=50, l1_ratio=0.99, total=   0.0s\n",
      "[CV] alpha=50, l1_ratio=1 ............................................\n",
      "[CV] ............................. alpha=50, l1_ratio=1, total=   0.0s\n",
      "[CV] alpha=50, l1_ratio=1 ............................................\n",
      "[CV] ............................. alpha=50, l1_ratio=1, total=   0.0s\n",
      "[CV] alpha=50, l1_ratio=1 ............................................\n",
      "[CV] ............................. alpha=50, l1_ratio=1, total=   0.0s\n",
      "[CV] alpha=50, l1_ratio=1 ............................................\n",
      "[CV] ............................. alpha=50, l1_ratio=1, total=   0.0s\n",
      "[CV] alpha=50, l1_ratio=1 ............................................\n",
      "[CV] ............................. alpha=50, l1_ratio=1, total=   0.0s\n",
      "[CV] alpha=100, l1_ratio=0.1 .........................................\n",
      "[CV] .......................... alpha=100, l1_ratio=0.1, total=   0.0s\n",
      "[CV] alpha=100, l1_ratio=0.1 .........................................\n",
      "[CV] .......................... alpha=100, l1_ratio=0.1, total=   0.0s\n",
      "[CV] alpha=100, l1_ratio=0.1 .........................................\n",
      "[CV] .......................... alpha=100, l1_ratio=0.1, total=   0.0s\n",
      "[CV] alpha=100, l1_ratio=0.1 .........................................\n",
      "[CV] .......................... alpha=100, l1_ratio=0.1, total=   0.0s\n",
      "[CV] alpha=100, l1_ratio=0.1 .........................................\n",
      "[CV] .......................... alpha=100, l1_ratio=0.1, total=   0.0s\n",
      "[CV] alpha=100, l1_ratio=0.5 .........................................\n",
      "[CV] .......................... alpha=100, l1_ratio=0.5, total=   0.0s\n",
      "[CV] alpha=100, l1_ratio=0.5 .........................................\n",
      "[CV] .......................... alpha=100, l1_ratio=0.5, total=   0.0s\n",
      "[CV] alpha=100, l1_ratio=0.5 .........................................\n",
      "[CV] .......................... alpha=100, l1_ratio=0.5, total=   0.0s\n",
      "[CV] alpha=100, l1_ratio=0.5 .........................................\n",
      "[CV] .......................... alpha=100, l1_ratio=0.5, total=   0.0s\n",
      "[CV] alpha=100, l1_ratio=0.5 .........................................\n",
      "[CV] .......................... alpha=100, l1_ratio=0.5, total=   0.0s\n",
      "[CV] alpha=100, l1_ratio=0.7 .........................................\n",
      "[CV] .......................... alpha=100, l1_ratio=0.7, total=   0.0s\n",
      "[CV] alpha=100, l1_ratio=0.7 .........................................\n",
      "[CV] .......................... alpha=100, l1_ratio=0.7, total=   0.0s\n",
      "[CV] alpha=100, l1_ratio=0.7 .........................................\n",
      "[CV] .......................... alpha=100, l1_ratio=0.7, total=   0.0s\n",
      "[CV] alpha=100, l1_ratio=0.7 .........................................\n",
      "[CV] .......................... alpha=100, l1_ratio=0.7, total=   0.0s\n",
      "[CV] alpha=100, l1_ratio=0.7 .........................................\n",
      "[CV] .......................... alpha=100, l1_ratio=0.7, total=   0.0s\n",
      "[CV] alpha=100, l1_ratio=0.95 ........................................\n",
      "[CV] ......................... alpha=100, l1_ratio=0.95, total=   0.0s\n",
      "[CV] alpha=100, l1_ratio=0.95 ........................................\n",
      "[CV] ......................... alpha=100, l1_ratio=0.95, total=   0.0s\n",
      "[CV] alpha=100, l1_ratio=0.95 ........................................\n",
      "[CV] ......................... alpha=100, l1_ratio=0.95, total=   0.0s\n",
      "[CV] alpha=100, l1_ratio=0.95 ........................................\n",
      "[CV] ......................... alpha=100, l1_ratio=0.95, total=   0.0s\n",
      "[CV] alpha=100, l1_ratio=0.95 ........................................\n",
      "[CV] ......................... alpha=100, l1_ratio=0.95, total=   0.0s\n",
      "[CV] alpha=100, l1_ratio=0.99 ........................................\n",
      "[CV] ......................... alpha=100, l1_ratio=0.99, total=   0.0s\n",
      "[CV] alpha=100, l1_ratio=0.99 ........................................\n",
      "[CV] ......................... alpha=100, l1_ratio=0.99, total=   0.0s\n",
      "[CV] alpha=100, l1_ratio=0.99 ........................................\n",
      "[CV] ......................... alpha=100, l1_ratio=0.99, total=   0.0s\n",
      "[CV] alpha=100, l1_ratio=0.99 ........................................\n",
      "[CV] ......................... alpha=100, l1_ratio=0.99, total=   0.0s\n",
      "[CV] alpha=100, l1_ratio=0.99 ........................................\n",
      "[CV] ......................... alpha=100, l1_ratio=0.99, total=   0.0s\n",
      "[CV] alpha=100, l1_ratio=1 ...........................................\n",
      "[CV] ............................ alpha=100, l1_ratio=1, total=   0.0s\n",
      "[CV] alpha=100, l1_ratio=1 ...........................................\n",
      "[CV] ............................ alpha=100, l1_ratio=1, total=   0.0s\n",
      "[CV] alpha=100, l1_ratio=1 ...........................................\n",
      "[CV] ............................ alpha=100, l1_ratio=1, total=   0.0s\n",
      "[CV] alpha=100, l1_ratio=1 ...........................................\n",
      "[CV] ............................ alpha=100, l1_ratio=1, total=   0.0s\n",
      "[CV] alpha=100, l1_ratio=1 ...........................................\n",
      "[CV] ............................ alpha=100, l1_ratio=1, total=   0.0s\n"
     ]
    },
    {
     "name": "stderr",
     "output_type": "stream",
     "text": [
      "[Parallel(n_jobs=1)]: Done 180 out of 180 | elapsed:    0.4s finished\n"
     ]
    },
    {
     "data": {
      "text/plain": "GridSearchCV(cv=5, estimator=ElasticNet(),\n             param_grid={'alpha': [0.1, 1, 5, 10, 50, 100],\n                         'l1_ratio': [0.1, 0.5, 0.7, 0.95, 0.99, 1]},\n             scoring='neg_mean_squared_error', verbose=2)"
     },
     "execution_count": 508,
     "metadata": {},
     "output_type": "execute_result"
    }
   ],
   "source": [
    "grid_model.fit(X_train,y_train)"
   ],
   "metadata": {
    "collapsed": false,
    "pycharm": {
     "name": "#%%\n"
    }
   }
  },
  {
   "cell_type": "code",
   "execution_count": 509,
   "outputs": [
    {
     "data": {
      "text/plain": "ElasticNet(alpha=0.1, l1_ratio=1)"
     },
     "execution_count": 509,
     "metadata": {},
     "output_type": "execute_result"
    }
   ],
   "source": [
    "grid_model.best_estimator_"
   ],
   "metadata": {
    "collapsed": false,
    "pycharm": {
     "name": "#%%\n"
    }
   }
  },
  {
   "cell_type": "code",
   "execution_count": 510,
   "outputs": [
    {
     "data": {
      "text/plain": "{'alpha': 0.1, 'l1_ratio': 1}"
     },
     "execution_count": 510,
     "metadata": {},
     "output_type": "execute_result"
    }
   ],
   "source": [
    "grid_model.best_params_"
   ],
   "metadata": {
    "collapsed": false,
    "pycharm": {
     "name": "#%%\n"
    }
   }
  },
  {
   "cell_type": "code",
   "execution_count": 511,
   "outputs": [
    {
     "data": {
      "text/plain": "array([15.71096589, 19.46333586, 11.59886257, 16.90630141,  9.31698537,\n        7.18661984, 20.1749801 , 17.24661433,  9.88966295, 19.04951924,\n       12.36445763, 13.90433551, 13.71688246, 21.11393415, 18.27872733,\n       10.03488221, 15.63668441,  7.95351093,  7.68038303, 20.28322178,\n        7.88858754, 18.06777354, 24.31854168, 22.62012891,  8.18850732,\n       12.78855232, 21.33524558,  8.20859824, 12.42702099, 12.60102033,\n       10.92776259, 19.08133337, 10.21982291,  6.98563573, 17.27886263,\n        8.03884303,  9.38033208,  8.37439061, 10.59329275, 10.69579932,\n       13.11514387,  9.85387447, 10.29814632,  8.18896299, 11.64305948,\n       10.26419462,  9.12534879, 16.28155142, 13.39292296, 20.69005782,\n       12.60009322, 14.06269567, 17.5149981 , 11.17829946, 12.73520647,\n        5.6911742 , 23.08589128, 12.53657769, 18.72980041, 15.22206746])"
     },
     "execution_count": 511,
     "metadata": {},
     "output_type": "execute_result"
    }
   ],
   "source": [
    "y_pred = grid_model.predict(X_test)\n",
    "y_pred"
   ],
   "metadata": {
    "collapsed": false,
    "pycharm": {
     "name": "#%%\n"
    }
   }
  },
  {
   "cell_type": "code",
   "execution_count": 512,
   "outputs": [],
   "source": [
    "from sklearn.metrics import mean_squared_error"
   ],
   "metadata": {
    "collapsed": false,
    "pycharm": {
     "name": "#%%\n"
    }
   }
  },
  {
   "cell_type": "code",
   "execution_count": 513,
   "outputs": [
    {
     "data": {
      "text/plain": "2.4118830695088103"
     },
     "execution_count": 513,
     "metadata": {},
     "output_type": "execute_result"
    }
   ],
   "source": [
    "mean_squared_error(y_test,y_pred)"
   ],
   "metadata": {
    "collapsed": false,
    "pycharm": {
     "name": "#%%\n"
    }
   }
  },
  {
   "cell_type": "code",
   "execution_count": 513,
   "outputs": [],
   "source": [],
   "metadata": {
    "collapsed": false,
    "pycharm": {
     "name": "#%%\n"
    }
   }
  }
 ],
 "metadata": {
  "kernelspec": {
   "display_name": "Python 3",
   "language": "python",
   "name": "python3"
  },
  "language_info": {
   "codemirror_mode": {
    "name": "ipython",
    "version": 2
   },
   "file_extension": ".py",
   "mimetype": "text/x-python",
   "name": "python",
   "nbconvert_exporter": "python",
   "pygments_lexer": "ipython2",
   "version": "2.7.6"
  }
 },
 "nbformat": 4,
 "nbformat_minor": 0
}